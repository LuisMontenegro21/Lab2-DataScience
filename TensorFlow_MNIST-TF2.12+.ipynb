{
 "cells": [
  {
   "cell_type": "markdown",
   "metadata": {},
   "source": [
    "# Red Neuronal Profunda (DNN) para clasificación MNIST\n",
    "\n",
    "Aplicaremos todos nuestros conocimientos para crear una DNN, frecuentemente llamada también una Artificial Neural Network (ANN).  El problema que vamos a trabajar se conoce como el \"Hola Mundo\" del aprendizaje profundo porque para la mayoría de estudiantes este es el primer algoritmo de aprendizaje profundo que ven. \n",
    "\n",
    "El conjunto de datos se llama MNIST y se refiere al reconocimiento de dígitos escritos a mano.  Pueden encontrar más información en el sitio web de Yann LeCun (Director of AI Research, Facebook).  El es uno de los pioneros de todo este tema, así como de otras metodologías más complejas como las Redes Neurales Convolucionales (CNN) que se utilizan hoy día.\n",
    "\n",
    "El conjunto de datos tiene 70,000 imágenes (28x28 pixels) de dígitos escritos a mano (1 dígito por imagen).\n",
    "\n",
    "La meta es escribir un algoritmo que detecta qué dígito ha sido escrito.  Como solo hay 10 dígitos (0 al 9), este es un problema de clasificación con 10 clases.\n",
    "\n",
    "Nuestra meta será construir una RN con 2 capas escondidas."
   ]
  },
  {
   "cell_type": "markdown",
   "metadata": {},
   "source": [
    "## Plan de Acción para preparar el modelo\n",
    "\n",
    "1.  Preparar los datos y preprocesarlos.  Crear los conjuntos de datos para entrenar, validar y probar\n",
    "2.  Crear un esboso del modelo y seleccionar las funciones de activación\n",
    "3.  Fijar los optimizadores avanzados y la función de pérdida\n",
    "4.  Hacer que el modelo aprenda\n",
    "5.  Probar la exactitud (\"accuracy\") del modelo"
   ]
  },
  {
   "cell_type": "markdown",
   "metadata": {},
   "source": [
    "## Importar los paquetes relevantes\n",
    "\n",
    "TensorFlow incluye un proveedor de los datos de MNIST que utilizaremos acá.  Viene con el módulo **\"tensorflow.keras.datasets\"**. "
   ]
  },
  {
   "cell_type": "code",
   "execution_count": 1,
   "metadata": {
    "tags": []
   },
   "outputs": [],
   "source": [
    "import numpy as np\n",
    "import tensorflow as tf"
   ]
  },
  {
   "cell_type": "markdown",
   "metadata": {},
   "source": [
    "La siguiente instrucción, cuando se corre por primera vez, descarga el conjunto de datos en lo indicado por el parámetro path, relativo a  ~/.keras/datasets).  Como si se hubiera ejecutado Lo siguiente:\n",
    "\n",
    "tf.keras.datasets.mnist.load_data(\n",
    "    path = 'mnist.npz'\n",
    ")\n",
    "\n",
    "luego separa los datos en un conjunto para entrenamiento y otro para pruebas.\n",
    "\n",
    "Si se ejecuta más de una vez, ya no descarga el archivo."
   ]
  },
  {
   "cell_type": "code",
   "execution_count": 2,
   "metadata": {},
   "outputs": [],
   "source": [
    "(X_entreno, y_entreno), (X_prueba, y_prueba) = tf.keras.datasets.mnist.load_data()\n"
   ]
  },
  {
   "cell_type": "code",
   "execution_count": 3,
   "metadata": {},
   "outputs": [
    {
     "data": {
      "text/plain": [
       "array([[[0, 0, 0, ..., 0, 0, 0],\n",
       "        [0, 0, 0, ..., 0, 0, 0],\n",
       "        [0, 0, 0, ..., 0, 0, 0],\n",
       "        ...,\n",
       "        [0, 0, 0, ..., 0, 0, 0],\n",
       "        [0, 0, 0, ..., 0, 0, 0],\n",
       "        [0, 0, 0, ..., 0, 0, 0]],\n",
       "\n",
       "       [[0, 0, 0, ..., 0, 0, 0],\n",
       "        [0, 0, 0, ..., 0, 0, 0],\n",
       "        [0, 0, 0, ..., 0, 0, 0],\n",
       "        ...,\n",
       "        [0, 0, 0, ..., 0, 0, 0],\n",
       "        [0, 0, 0, ..., 0, 0, 0],\n",
       "        [0, 0, 0, ..., 0, 0, 0]],\n",
       "\n",
       "       [[0, 0, 0, ..., 0, 0, 0],\n",
       "        [0, 0, 0, ..., 0, 0, 0],\n",
       "        [0, 0, 0, ..., 0, 0, 0],\n",
       "        ...,\n",
       "        [0, 0, 0, ..., 0, 0, 0],\n",
       "        [0, 0, 0, ..., 0, 0, 0],\n",
       "        [0, 0, 0, ..., 0, 0, 0]],\n",
       "\n",
       "       ...,\n",
       "\n",
       "       [[0, 0, 0, ..., 0, 0, 0],\n",
       "        [0, 0, 0, ..., 0, 0, 0],\n",
       "        [0, 0, 0, ..., 0, 0, 0],\n",
       "        ...,\n",
       "        [0, 0, 0, ..., 0, 0, 0],\n",
       "        [0, 0, 0, ..., 0, 0, 0],\n",
       "        [0, 0, 0, ..., 0, 0, 0]],\n",
       "\n",
       "       [[0, 0, 0, ..., 0, 0, 0],\n",
       "        [0, 0, 0, ..., 0, 0, 0],\n",
       "        [0, 0, 0, ..., 0, 0, 0],\n",
       "        ...,\n",
       "        [0, 0, 0, ..., 0, 0, 0],\n",
       "        [0, 0, 0, ..., 0, 0, 0],\n",
       "        [0, 0, 0, ..., 0, 0, 0]],\n",
       "\n",
       "       [[0, 0, 0, ..., 0, 0, 0],\n",
       "        [0, 0, 0, ..., 0, 0, 0],\n",
       "        [0, 0, 0, ..., 0, 0, 0],\n",
       "        ...,\n",
       "        [0, 0, 0, ..., 0, 0, 0],\n",
       "        [0, 0, 0, ..., 0, 0, 0],\n",
       "        [0, 0, 0, ..., 0, 0, 0]]], dtype=uint8)"
      ]
     },
     "execution_count": 3,
     "metadata": {},
     "output_type": "execute_result"
    }
   ],
   "source": [
    "X_entreno"
   ]
  },
  {
   "cell_type": "code",
   "execution_count": 4,
   "metadata": {},
   "outputs": [
    {
     "name": "stdout",
     "output_type": "stream",
     "text": [
      "(60000, 28, 28)\n"
     ]
    }
   ],
   "source": [
    "print(X_entreno.shape)"
   ]
  },
  {
   "cell_type": "markdown",
   "metadata": {},
   "source": [
    "Como no podemos ver la forma de los conjuntos...les queda de tarea averiguar por qué no...podemos utilizar la instrucción **assert**"
   ]
  },
  {
   "cell_type": "code",
   "execution_count": 5,
   "metadata": {},
   "outputs": [],
   "source": [
    "assert X_entreno.shape == (60000, 28, 28)\n",
    "assert X_prueba.shape == (10000, 28, 28)\n",
    "assert y_entreno.shape == (60000,)\n",
    "assert y_prueba.shape == (10000,)"
   ]
  },
  {
   "cell_type": "markdown",
   "metadata": {},
   "source": [
    "## Datos\n",
    "\n",
    "Esta sección es donde pre-procesaremos nuestros datos."
   ]
  },
  {
   "cell_type": "markdown",
   "metadata": {},
   "source": [
    "Por default, TF2 tiene conjuntos de datos de entrenamiento y de prueba, pero no tiene un conjunto de validación, por lo que debemos dividirlo por nuestra cuenta\n",
    "\n",
    "Lo haremos del mismo tamaño que el conjunto de prueba"
   ]
  },
  {
   "cell_type": "code",
   "execution_count": 6,
   "metadata": {},
   "outputs": [],
   "source": [
    "num_obs_validacion = y_prueba.shape[0]"
   ]
  },
  {
   "cell_type": "markdown",
   "metadata": {},
   "source": [
    "Usaremos una variable dedicada para el número de observaciones de prueba"
   ]
  },
  {
   "cell_type": "code",
   "execution_count": 7,
   "metadata": {},
   "outputs": [],
   "source": [
    "num_obs_prueba = y_prueba.shape[0]"
   ]
  },
  {
   "cell_type": "markdown",
   "metadata": {},
   "source": [
    "Generalmente preferimos \"normalizar\" nuestros datos en alguna forma para que el resultado sea numéricamente más estable.  En este caso simplemente preferimos tener entradas entre 0 y 1, por lo que definimos una función, que reciba la imagen MNIST.\n",
    "\n",
    "Como los posibles valores de las entradas son entre 0 y 255 (256 posibles tonos de gris), al dividirlos por 255 obtenemos el resultado deseado."
   ]
  },
  {
   "cell_type": "code",
   "execution_count": 8,
   "metadata": {
    "tags": []
   },
   "outputs": [],
   "source": [
    "X_entreno_normalizado = X_entreno / 255"
   ]
  },
  {
   "cell_type": "markdown",
   "metadata": {},
   "source": [
    "Finalmente, normalizaremos y convertiremos los datos de pruebas en tandas.  Los normalizamos para que tengan la misma magnitud que los datos de entrenamiento y validación.\n",
    "\n",
    "No hay necesidad de \"barajearlo\" ya que no estaremos entrenando con los datos de prueba.  Habra una sola tanda, igual al tamaño de los datos de prueba."
   ]
  },
  {
   "cell_type": "code",
   "execution_count": 9,
   "metadata": {},
   "outputs": [],
   "source": [
    "X_prueba_normalizado = X_prueba / 255"
   ]
  },
  {
   "cell_type": "markdown",
   "metadata": {},
   "source": [
    "Una vez se han \"normalizado\" los datos, podemos proceder a extraer los datos de entrenamiento y de validación.\n",
    "\n",
    "Nuestros datos de validación serán 10000 para ser igual al conjunto de prueba.\n",
    "\n",
    "Finalmente, creamos una tanda con un tamaño de tanda igual al total de muestras de validación."
   ]
  },
  {
   "cell_type": "code",
   "execution_count": 10,
   "metadata": {},
   "outputs": [],
   "source": [
    "X_validacion = X_entreno_normalizado[-num_obs_validacion: , : , : ]\n",
    "y_validacion = y_entreno[-num_obs_validacion:]"
   ]
  },
  {
   "cell_type": "markdown",
   "metadata": {},
   "source": [
    "Similarmente, los datos de entrenamiento son todos los demás por lo que nos salteamos tantas observaciones como las hay en el conjunto de validación."
   ]
  },
  {
   "cell_type": "code",
   "execution_count": 11,
   "metadata": {},
   "outputs": [],
   "source": [
    "X_entreno = X_entreno_normalizado[ : X_entreno_normalizado.shape[0] - num_obs_validacion, : , : ]\n",
    "y_entreno = y_entreno[ : y_entreno.shape[0] - num_obs_validacion]\n",
    "num_obs_entreno = y_entreno.shape[0]"
   ]
  },
  {
   "cell_type": "markdown",
   "metadata": {},
   "source": [
    "Convertir de Arreglos Numpy a Tensores"
   ]
  },
  {
   "cell_type": "code",
   "execution_count": 12,
   "metadata": {},
   "outputs": [],
   "source": [
    "datos_entreno = tf.data.Dataset.from_tensor_slices((X_entreno, y_entreno))\n",
    "datos_validacion = tf.data.Dataset.from_tensor_slices((X_validacion, y_validacion))\n",
    "datos_prueba = tf.data.Dataset.from_tensor_slices((X_prueba, y_prueba))"
   ]
  },
  {
   "cell_type": "markdown",
   "metadata": {},
   "source": [
    "Barajear y hacer tandas con el conjunto de datos de entrenamiento"
   ]
  },
  {
   "cell_type": "code",
   "execution_count": 13,
   "metadata": {},
   "outputs": [],
   "source": [
    "TAMANIO_TANDA = 100\n",
    "datos_entreno = datos_entreno.shuffle(buffer_size = num_obs_entreno).batch(TAMANIO_TANDA)"
   ]
  },
  {
   "cell_type": "markdown",
   "metadata": {},
   "source": [
    "Hacer tandas con los conjuntos de validación y prueba, no se necesita barajearlos"
   ]
  },
  {
   "cell_type": "code",
   "execution_count": 14,
   "metadata": {},
   "outputs": [],
   "source": [
    "datos_validacion = datos_validacion.batch(TAMANIO_TANDA)\n",
    "datos_prueba = datos_prueba.batch(TAMANIO_TANDA)"
   ]
  },
  {
   "cell_type": "markdown",
   "metadata": {},
   "source": [
    "## Modelo"
   ]
  },
  {
   "cell_type": "markdown",
   "metadata": {},
   "source": [
    "### Delineamos el modelo\n",
    "\n",
    "Cuando pensamos sobre un algoritmo de aprendizaje profundo, casi siempre imaginamos la realización del mismo.  Asi que esta vez, hagámoslo.  :)"
   ]
  },
  {
   "cell_type": "code",
   "execution_count": 15,
   "metadata": {
    "tags": []
   },
   "outputs": [],
   "source": [
    "tamanio_entrada = 784\n",
    "tamanio_salida = 10"
   ]
  },
  {
   "cell_type": "markdown",
   "metadata": {},
   "source": [
    "Usaremos el mismo ancho para ambas capas escondidas.  (No es una necesidad!)"
   ]
  },
  {
   "cell_type": "code",
   "execution_count": 16,
   "metadata": {},
   "outputs": [],
   "source": [
    "tamanio_capa_escondida = 50"
   ]
  },
  {
   "cell_type": "markdown",
   "metadata": {},
   "source": [
    "# Definimos cómo se verá el modelo\n",
    "\n",
    "La primera capa (la de entrada):  cada observación es de 28x28 píxeles, por lo tanto es un tensor de rango 2.\n",
    "\n",
    "Como aún no hemos aprendido sobre CNNs, no sabemos como alimentar este tipo de entrada a nuestra red, por lo tanto hay que \"aplanar\" las imágenes.  Hay un método conveniente **Flatten** que toma nuestro tensor de 28x28 y lo convierte en  un vector (None,) o (784,)...porque 28x28 = 784.  Esto nos permite crear una red de alimentación hacia adelante.\n",
    "\n",
    "    \n",
    "**tf.keras.layers.Dense** básicamente implementa:  *salida = activation(dot(entrada, peso) + sesgo)*.  Requiere varios argumentos, pero los más importantes para nosotros son el ancho de la capa escondida y la función de activación.\n",
    "\n",
    "La capa final no es diferente, solo nos aseguramos de activarla con **softmax**\n"
   ]
  },
  {
   "cell_type": "code",
   "execution_count": 17,
   "metadata": {},
   "outputs": [
    {
     "name": "stderr",
     "output_type": "stream",
     "text": [
      "c:\\Users\\HP\\AppData\\Local\\Programs\\Python\\Python312\\Lib\\site-packages\\keras\\src\\layers\\reshaping\\flatten.py:37: UserWarning: Do not pass an `input_shape`/`input_dim` argument to a layer. When using Sequential models, prefer using an `Input(shape)` object as the first layer in the model instead.\n",
      "  super().__init__(**kwargs)\n"
     ]
    }
   ],
   "source": [
    "modelo = tf.keras.Sequential([\n",
    "\n",
    "    tf.keras.layers.Flatten(input_shape=(28, 28)), # capa entrada\n",
    "    \n",
    "    tf.keras.layers.Dense(tamanio_capa_escondida, activation='relu'), # 1era capa escondida\n",
    "    tf.keras.layers.Dense(tamanio_capa_escondida, activation='relu'), # 2nda capa escondida\n",
    "\n",
    "    tf.keras.layers.Dense(tamanio_salida, activation='softmax') # capa salida\n",
    "])"
   ]
  },
  {
   "cell_type": "markdown",
   "metadata": {},
   "source": [
    "### Seleccionar el optimizador y la función de pérdida"
   ]
  },
  {
   "cell_type": "markdown",
   "metadata": {
    "tags": []
   },
   "source": [
    "Definimos el optimizador que nos gustaría utilizar, la función de pérdida, y las métricas que nos interesa obtener en cada interacción"
   ]
  },
  {
   "cell_type": "code",
   "execution_count": 18,
   "metadata": {},
   "outputs": [],
   "source": [
    "modelo.compile(optimizer='adam', loss='sparse_categorical_crossentropy', metrics=['accuracy'])"
   ]
  },
  {
   "cell_type": "markdown",
   "metadata": {},
   "source": [
    "### Entrenamiento\n",
    "\n",
    "Acá es donde entrenamos el modelo que hemos construído\n",
    "\n",
    "Determinamos el número máximo de épocas.\n",
    "\n",
    "Ajustamos el modelo , especificando:\n",
    "\n",
    "* los datos de entrenamiento\n",
    "* el número total de épocas\n",
    "* y los datos de validación que creamos en el formato (entradas, metas)"
   ]
  },
  {
   "cell_type": "code",
   "execution_count": 19,
   "metadata": {},
   "outputs": [
    {
     "name": "stdout",
     "output_type": "stream",
     "text": [
      "Epoch 1/5\n",
      "500/500 - 2s - 4ms/step - accuracy: 0.8807 - loss: 0.4163 - val_accuracy: 0.9422 - val_loss: 0.2021\n",
      "Epoch 2/5\n",
      "500/500 - 1s - 2ms/step - accuracy: 0.9464 - loss: 0.1820 - val_accuracy: 0.9573 - val_loss: 0.1529\n",
      "Epoch 3/5\n",
      "500/500 - 1s - 1ms/step - accuracy: 0.9593 - loss: 0.1386 - val_accuracy: 0.9621 - val_loss: 0.1308\n",
      "Epoch 4/5\n",
      "500/500 - 1s - 1ms/step - accuracy: 0.9661 - loss: 0.1138 - val_accuracy: 0.9655 - val_loss: 0.1179\n",
      "Epoch 5/5\n",
      "500/500 - 1s - 1ms/step - accuracy: 0.9708 - loss: 0.0973 - val_accuracy: 0.9682 - val_loss: 0.1128\n"
     ]
    },
    {
     "data": {
      "text/plain": [
       "<keras.src.callbacks.history.History at 0x2a0f89d7650>"
      ]
     },
     "execution_count": 19,
     "metadata": {},
     "output_type": "execute_result"
    }
   ],
   "source": [
    "NUMERO_EPOCAS = 5\n",
    "\n",
    "modelo.fit(datos_entreno,\n",
    "          epochs = NUMERO_EPOCAS, \n",
    "          validation_data = datos_validacion,\n",
    "          verbose = 2)"
   ]
  },
  {
   "cell_type": "markdown",
   "metadata": {},
   "source": [
    "## Probar el modelo\n",
    "\n",
    "Como se discutió en clase, luego del entrenamiento (con los datos de entrenamiento), y la validación (con los datos de validación), probamos el potencial de predicción final de nuestro modelo con el conjunto de datos de prueba que el algoritmo NUNCA ha visto antes.\n",
    "\n",
    "Es muy importante reconocer que estar \"jugando\" con los hiperparámetros sobre-ajusta el conjunto de datos de validación.\n",
    "\n",
    "La prueba es la instancia absolutamente final. **NUNCA** debe probarse el modelo antes de haber completamente ajustado el mismo.\n",
    "\n",
    "Si se ajusta el modelo después de hacer la prueba, se empezará a sobre-ajustar el conjunto de datos de prueba, que echaría \"por los suelos\" el propósito original del mismo."
   ]
  },
  {
   "cell_type": "code",
   "execution_count": 20,
   "metadata": {},
   "outputs": [
    {
     "name": "stdout",
     "output_type": "stream",
     "text": [
      "\u001b[1m100/100\u001b[0m \u001b[32m━━━━━━━━━━━━━━━━━━━━\u001b[0m\u001b[37m\u001b[0m \u001b[1m0s\u001b[0m 1ms/step - accuracy: 0.9589 - loss: 20.5587\n"
     ]
    }
   ],
   "source": [
    "perdida_prueba, precision_prueba = modelo.evaluate(datos_prueba)"
   ]
  },
  {
   "cell_type": "code",
   "execution_count": 21,
   "metadata": {},
   "outputs": [
    {
     "name": "stdout",
     "output_type": "stream",
     "text": [
      "Pérdida de prueba: 18.22. Precisión de prueba: 96.56%\n"
     ]
    }
   ],
   "source": [
    "# Si se desea, se puede aplicar un formateo \"bonito\"\n",
    "print('Pérdida de prueba: {0:.2f}. Precisión de prueba: {1:.2f}%'.format(perdida_prueba, precision_prueba * 100.))"
   ]
  },
  {
   "cell_type": "markdown",
   "metadata": {},
   "source": [
    "Utilizando el modelo inicial y los hiperparámetros dados en este notebook, la precisión de prueba final debe ser aproximadamente 97%.\n",
    "\n",
    "Cada vez que se ejecuta el código, se obtiene una precisión diferente debido a la \"barajeada\" de las tandas, los pesos se inicializan en forma diferente, etc.\n",
    "\n",
    "Finalmente, intencionalmente se ha llegado a una solución subóptima, para que puedan tener la oportunidad de mejorarla como ejercicio de laboratorio."
   ]
  },
  {
   "cell_type": "markdown",
   "metadata": {},
   "source": [
    "## Nuevo Modelo\n",
    "En este modelo se hará los siguientes cambios:\n",
    "- Modificación de ancho de red\n",
    "- Modificación de profundidad \n",
    "- Experimentación con redes profundas\n",
    "- Funciones de activación\n",
    "- Modificación de la tanda"
   ]
  },
  {
   "cell_type": "markdown",
   "metadata": {},
   "source": [
    "### Modificación del ancho de red\n",
    "Se modifica el tamaño de capa escondida a 200 y se vuelve a entrenar"
   ]
  },
  {
   "cell_type": "code",
   "execution_count": 22,
   "metadata": {},
   "outputs": [],
   "source": [
    "tamanio_capa_escondida = 300 # modify hidden layer size "
   ]
  },
  {
   "cell_type": "code",
   "execution_count": 23,
   "metadata": {},
   "outputs": [],
   "source": [
    "modelo = tf.keras.Sequential([\n",
    "\n",
    "    tf.keras.layers.Flatten(input_shape=(28, 28)), # capa entrada\n",
    "    \n",
    "    tf.keras.layers.Dense(tamanio_capa_escondida, activation='relu'), # 1era capa escondida\n",
    "    tf.keras.layers.Dense(tamanio_capa_escondida, activation='relu'), # 2nda capa escondida\n",
    "\n",
    "    tf.keras.layers.Dense(tamanio_salida, activation='softmax') # capa salida\n",
    "])"
   ]
  },
  {
   "cell_type": "code",
   "execution_count": 24,
   "metadata": {},
   "outputs": [],
   "source": [
    "modelo.compile(optimizer='adam', loss='sparse_categorical_crossentropy', metrics=['accuracy'])"
   ]
  },
  {
   "cell_type": "code",
   "execution_count": 25,
   "metadata": {},
   "outputs": [
    {
     "name": "stdout",
     "output_type": "stream",
     "text": [
      "Epoch 1/5\n",
      "500/500 - 3s - 6ms/step - accuracy: 0.9257 - loss: 0.2563 - val_accuracy: 0.9626 - val_loss: 0.1209\n",
      "Epoch 2/5\n",
      "500/500 - 2s - 4ms/step - accuracy: 0.9710 - loss: 0.0955 - val_accuracy: 0.9655 - val_loss: 0.1094\n",
      "Epoch 3/5\n",
      "500/500 - 2s - 3ms/step - accuracy: 0.9806 - loss: 0.0608 - val_accuracy: 0.9762 - val_loss: 0.0785\n",
      "Epoch 4/5\n",
      "500/500 - 2s - 4ms/step - accuracy: 0.9865 - loss: 0.0421 - val_accuracy: 0.9764 - val_loss: 0.0815\n",
      "Epoch 5/5\n",
      "500/500 - 2s - 3ms/step - accuracy: 0.9891 - loss: 0.0328 - val_accuracy: 0.9767 - val_loss: 0.0809\n"
     ]
    },
    {
     "data": {
      "text/plain": [
       "<keras.src.callbacks.history.History at 0x2a121e61a60>"
      ]
     },
     "execution_count": 25,
     "metadata": {},
     "output_type": "execute_result"
    }
   ],
   "source": [
    "NUMERO_EPOCAS = 5\n",
    "\n",
    "modelo.fit(datos_entreno,\n",
    "          epochs = NUMERO_EPOCAS, \n",
    "          validation_data = datos_validacion,\n",
    "          verbose = 2)"
   ]
  },
  {
   "cell_type": "code",
   "execution_count": 26,
   "metadata": {},
   "outputs": [
    {
     "name": "stdout",
     "output_type": "stream",
     "text": [
      "\u001b[1m100/100\u001b[0m \u001b[32m━━━━━━━━━━━━━━━━━━━━\u001b[0m\u001b[37m\u001b[0m \u001b[1m0s\u001b[0m 1ms/step - accuracy: 0.9750 - loss: 15.5070\n"
     ]
    }
   ],
   "source": [
    "perdida_prueba, precision_prueba = modelo.evaluate(datos_prueba)"
   ]
  },
  {
   "cell_type": "code",
   "execution_count": 27,
   "metadata": {},
   "outputs": [
    {
     "name": "stdout",
     "output_type": "stream",
     "text": [
      "Pérdida de prueba: 14.22. Precisión de prueba: 97.77%\n"
     ]
    }
   ],
   "source": [
    "print('Pérdida de prueba: {0:.2f}. Precisión de prueba: {1:.2f}%'.format(perdida_prueba, precision_prueba * 100.))"
   ]
  },
  {
   "cell_type": "markdown",
   "metadata": {},
   "source": [
    "### Resultados\n",
    "1. ¿Cómo cambia la precisión de validación del modelo?<br>\n",
    "En este caso tuvimos menor pérdida con 200 que con el valor anterior de 50. La precisión fue un poco más elevada \n",
    "2. ¿Cuánto tiempo tarda el algoritmo en entrenar?<br>\n",
    "Con 200 capas escondidas tardó bastante poco. Unos cuantos milisegundos.\n",
    "3. ¿Cuál ofrece mejor rendimiento?<br>\n",
    "Con la de 200 tuvimos pérdida baja, similarmente con 100 hubo unos resultados similares. Ya cuando intentamos utilizar 300<br>\n",
    "la cantidad de pérdida fue aumentando aunque la precisión fue similar. Mientras que con 500 capas, la pérdida fue ligeramente menor pero aumentó por igual\n",
    "y con una precisión de casi 98%. <br>\n",
    "Por lo que podemos ver que realmente el rendimiento se mantiene bastante bueno, pero entre más capas, hay menor pérdida, pero más tiempo de entrenamiento.\n",
    "Por lo que vimos que en rendimiento y precisión era menor 300 capas. "
   ]
  },
  {
   "cell_type": "markdown",
   "metadata": {},
   "source": [
    "## Modificación de la profundiad de la red\n",
    "En este caso le agregaremos una nueva capa oculta al modelo.<br>\n",
    "De momento los valores a utilizar son:\n",
    "* tamaño de capa : 300\n",
    "* tamaño entrada : 784\n",
    "* tamaño salida : 10<br>\n",
    "Se utiliza<br>\n",
    "* activación ReLU para cada capa escondida\n",
    "* activación softmax para la de salida\n",
    "* optimizador adam\n",
    "* pérdida con entropía cruzada\n",
    "* 5 épocas "
   ]
  },
  {
   "cell_type": "code",
   "execution_count": 28,
   "metadata": {},
   "outputs": [],
   "source": [
    "modelo = tf.keras.Sequential([\n",
    "\n",
    "    tf.keras.layers.Flatten(input_shape=(28, 28)), # capa entrada\n",
    "    \n",
    "    tf.keras.layers.Dense(tamanio_capa_escondida, activation='relu'), # 1era capa escondida\n",
    "    tf.keras.layers.Dense(tamanio_capa_escondida, activation='relu'), # 2nda capa escondida\n",
    "    tf.keras.layers.Dense(tamanio_capa_escondida, activation='relu'), # 3ra capa escondida agregada\n",
    "\n",
    "    tf.keras.layers.Dense(tamanio_salida, activation='softmax') # capa salida\n",
    "])"
   ]
  },
  {
   "cell_type": "code",
   "execution_count": 29,
   "metadata": {},
   "outputs": [],
   "source": [
    "modelo.compile(optimizer='adam', loss='sparse_categorical_crossentropy', metrics=['accuracy'])"
   ]
  },
  {
   "cell_type": "code",
   "execution_count": 30,
   "metadata": {},
   "outputs": [
    {
     "name": "stdout",
     "output_type": "stream",
     "text": [
      "Epoch 1/5\n",
      "500/500 - 3s - 6ms/step - accuracy: 0.9244 - loss: 0.2500 - val_accuracy: 0.9640 - val_loss: 0.1189\n",
      "Epoch 2/5\n",
      "500/500 - 2s - 4ms/step - accuracy: 0.9714 - loss: 0.0945 - val_accuracy: 0.9721 - val_loss: 0.0970\n",
      "Epoch 3/5\n",
      "500/500 - 2s - 4ms/step - accuracy: 0.9804 - loss: 0.0638 - val_accuracy: 0.9718 - val_loss: 0.0932\n",
      "Epoch 4/5\n",
      "500/500 - 2s - 4ms/step - accuracy: 0.9848 - loss: 0.0468 - val_accuracy: 0.9752 - val_loss: 0.0826\n",
      "Epoch 5/5\n",
      "500/500 - 2s - 4ms/step - accuracy: 0.9873 - loss: 0.0383 - val_accuracy: 0.9737 - val_loss: 0.0987\n"
     ]
    },
    {
     "data": {
      "text/plain": [
       "<keras.src.callbacks.history.History at 0x2a121deadb0>"
      ]
     },
     "execution_count": 30,
     "metadata": {},
     "output_type": "execute_result"
    }
   ],
   "source": [
    "modelo.fit(datos_entreno,\n",
    "          epochs = NUMERO_EPOCAS, \n",
    "          validation_data = datos_validacion,\n",
    "          verbose = 2)"
   ]
  },
  {
   "cell_type": "code",
   "execution_count": 31,
   "metadata": {},
   "outputs": [
    {
     "name": "stdout",
     "output_type": "stream",
     "text": [
      "\u001b[1m100/100\u001b[0m \u001b[32m━━━━━━━━━━━━━━━━━━━━\u001b[0m\u001b[37m\u001b[0m \u001b[1m0s\u001b[0m 2ms/step - accuracy: 0.9678 - loss: 22.8520\n"
     ]
    }
   ],
   "source": [
    "perdida_prueba, precision_prueba = modelo.evaluate(datos_prueba)"
   ]
  },
  {
   "cell_type": "markdown",
   "metadata": {},
   "source": [
    "### Resultados\n",
    "1. Precisión de validación con el anterior modelo,<br>\n",
    "Este modelo presenta una validación similar a la del modelo anterior. Su exactitud es similar y su pérdida también. \n",
    "2. Impacto en tiempo de ejecución.<br>\n",
    "El tiempo de ejecución se vio levemente afectado por el añadimiento de una capa escondida extra.\n",
    "3. Cambios necesarios al código.<br>\n",
    "El código se mantuvi similar, solamente se tuvo que agregar la línea <br>\n",
    "`tf.keras.layers.Dense(tamanio_capa_escondida, activation='relu'),` <br>\n",
    "al modelo para que agregarse una capa escondida. "
   ]
  },
  {
   "cell_type": "markdown",
   "metadata": {},
   "source": [
    "## Redes Profundas\n",
    "Aquí experimentaremos con el ancho de cada capa y cómo afecta esto en su tiempo de ejecución. <br>\n",
    "Veremos si existe problemas de desvanecimiento de gradiente. "
   ]
  },
  {
   "cell_type": "code",
   "execution_count": 32,
   "metadata": {},
   "outputs": [],
   "source": [
    "modelo = tf.keras.Sequential([\n",
    "\n",
    "    tf.keras.layers.Flatten(input_shape=(28, 28)), # capa entrada\n",
    "    \n",
    "    tf.keras.layers.Dense(tamanio_capa_escondida, activation='relu'), # 1era capa escondida\n",
    "    tf.keras.layers.Dense(tamanio_capa_escondida, activation='relu'), # 2nda capa escondida\n",
    "    tf.keras.layers.Dense(tamanio_capa_escondida, activation='relu'), # 3ra capa escondida agregada\n",
    "    tf.keras.layers.Dense(tamanio_capa_escondida, activation='relu'), # 4ta capa escondida agregada \n",
    "    tf.keras.layers.Dense(tamanio_capa_escondida, activation='relu'), # 5ta capa escondida agregada \n",
    "\n",
    "    tf.keras.layers.Dense(tamanio_salida, activation='softmax') # capa salida\n",
    "])"
   ]
  },
  {
   "cell_type": "code",
   "execution_count": 33,
   "metadata": {},
   "outputs": [],
   "source": [
    "modelo.compile(optimizer='adam', loss='sparse_categorical_crossentropy', metrics=['accuracy'])"
   ]
  },
  {
   "cell_type": "code",
   "execution_count": 34,
   "metadata": {},
   "outputs": [
    {
     "name": "stdout",
     "output_type": "stream",
     "text": [
      "Epoch 1/5\n",
      "500/500 - 4s - 8ms/step - accuracy: 0.9201 - loss: 0.2602 - val_accuracy: 0.9646 - val_loss: 0.1203\n",
      "Epoch 2/5\n",
      "500/500 - 3s - 5ms/step - accuracy: 0.9666 - loss: 0.1098 - val_accuracy: 0.9680 - val_loss: 0.1087\n",
      "Epoch 3/5\n",
      "500/500 - 3s - 5ms/step - accuracy: 0.9761 - loss: 0.0773 - val_accuracy: 0.9702 - val_loss: 0.1075\n",
      "Epoch 4/5\n",
      "500/500 - 2s - 5ms/step - accuracy: 0.9827 - loss: 0.0568 - val_accuracy: 0.9730 - val_loss: 0.0965\n",
      "Epoch 5/5\n",
      "500/500 - 2s - 5ms/step - accuracy: 0.9851 - loss: 0.0472 - val_accuracy: 0.9762 - val_loss: 0.0846\n"
     ]
    },
    {
     "data": {
      "text/plain": [
       "<keras.src.callbacks.history.History at 0x2a120d3ce00>"
      ]
     },
     "execution_count": 34,
     "metadata": {},
     "output_type": "execute_result"
    }
   ],
   "source": [
    "modelo.fit(datos_entreno,\n",
    "          epochs = NUMERO_EPOCAS, \n",
    "          validation_data = datos_validacion,\n",
    "          verbose = 2)"
   ]
  },
  {
   "cell_type": "code",
   "execution_count": 35,
   "metadata": {},
   "outputs": [
    {
     "name": "stdout",
     "output_type": "stream",
     "text": [
      "\u001b[1m100/100\u001b[0m \u001b[32m━━━━━━━━━━━━━━━━━━━━\u001b[0m\u001b[37m\u001b[0m \u001b[1m0s\u001b[0m 2ms/step - accuracy: 0.9705 - loss: 18.4991\n"
     ]
    }
   ],
   "source": [
    "perdida_prueba, precision_prueba = modelo.evaluate(datos_prueba)"
   ]
  },
  {
   "cell_type": "markdown",
   "metadata": {},
   "source": [
    "### Resultados\n",
    "1. Precisión de validación para cada intento<br>\n",
    "    - 4 capas: accuracy 97.54% / pérdida 15.35\n",
    "    - 5 capas: accuracy 97.31% / pérdida 17.00\n",
    "2. Relación entre profundidad y tiempo de ejecución<br>\n",
    "    Como podemos ver, entre más capas el tiempo de ejecución del modelo va demorando poco a poco<br>\n",
    "    cada vez más. Esto se debe sencillamente a que entre más capas tenemos, hay más transformaciones e interacciones <br>\n",
    "    entre las capas neuronales. Lo que causa que se demore cada vez más conforme se aumenta el número de capas.\n",
    "3. Problemas de desvanecimiento de gradiente<br>\n",
    "    Entre más capas neuronales tenemos, más activaciones estaremos haciendo, lo cual puede llevar a que\n",
    "    los coeficientes vayan siendo más y más pequeños conforme se agregan más capas debido a que si los <br>\n",
    "    coeficientes son menores a 1, la multiplicación entre estos dará como resultado un número más y más pequeño<br>\n",
    "    entre más capas pase. Por eso a veces más capas no significa mejor resultado. "
   ]
  },
  {
   "cell_type": "markdown",
   "metadata": {},
   "source": [
    "## Funciones de Activación I\n",
    "Aplicaremos funciones de activación sigmoidales a todas las capas. "
   ]
  },
  {
   "cell_type": "code",
   "execution_count": 36,
   "metadata": {},
   "outputs": [],
   "source": [
    "modelo = tf.keras.Sequential([\n",
    "\n",
    "    tf.keras.layers.Flatten(input_shape=(28, 28)), # capa entrada\n",
    "    \n",
    "    tf.keras.layers.Dense(tamanio_capa_escondida, activation='sigmoid'), # 1era capa escondida\n",
    "    tf.keras.layers.Dense(tamanio_capa_escondida, activation='sigmoid'), # 2nda capa escondida\n",
    "    tf.keras.layers.Dense(tamanio_capa_escondida, activation='sigmoid'), # 3ra capa escondida agregada\n",
    "    tf.keras.layers.Dense(tamanio_capa_escondida, activation='sigmoid'), # 4ta capa escondida agregada \n",
    "    tf.keras.layers.Dense(tamanio_capa_escondida, activation='sigmoid'), # 5ta capa escondida agregada \n",
    "\n",
    "    tf.keras.layers.Dense(tamanio_salida, activation='softmax') # capa salida\n",
    "])"
   ]
  },
  {
   "cell_type": "code",
   "execution_count": 37,
   "metadata": {},
   "outputs": [],
   "source": [
    "modelo.compile(optimizer='adam', loss='sparse_categorical_crossentropy', metrics=['accuracy'])"
   ]
  },
  {
   "cell_type": "code",
   "execution_count": 38,
   "metadata": {},
   "outputs": [
    {
     "name": "stdout",
     "output_type": "stream",
     "text": [
      "Epoch 1/5\n",
      "500/500 - 4s - 7ms/step - accuracy: 0.7022 - loss: 0.8728 - val_accuracy: 0.9056 - val_loss: 0.3286\n",
      "Epoch 2/5\n",
      "500/500 - 2s - 5ms/step - accuracy: 0.9240 - loss: 0.2667 - val_accuracy: 0.9393 - val_loss: 0.2047\n",
      "Epoch 3/5\n",
      "500/500 - 2s - 5ms/step - accuracy: 0.9459 - loss: 0.1856 - val_accuracy: 0.9550 - val_loss: 0.1509\n",
      "Epoch 4/5\n",
      "500/500 - 2s - 5ms/step - accuracy: 0.9587 - loss: 0.1396 - val_accuracy: 0.9608 - val_loss: 0.1337\n",
      "Epoch 5/5\n",
      "500/500 - 2s - 5ms/step - accuracy: 0.9662 - loss: 0.1156 - val_accuracy: 0.9661 - val_loss: 0.1203\n"
     ]
    },
    {
     "data": {
      "text/plain": [
       "<keras.src.callbacks.history.History at 0x2a126006960>"
      ]
     },
     "execution_count": 38,
     "metadata": {},
     "output_type": "execute_result"
    }
   ],
   "source": [
    "modelo.fit(datos_entreno,\n",
    "          epochs = NUMERO_EPOCAS, \n",
    "          validation_data = datos_validacion,\n",
    "          verbose = 2)"
   ]
  },
  {
   "cell_type": "code",
   "execution_count": 39,
   "metadata": {},
   "outputs": [
    {
     "name": "stdout",
     "output_type": "stream",
     "text": [
      "\u001b[1m100/100\u001b[0m \u001b[32m━━━━━━━━━━━━━━━━━━━━\u001b[0m\u001b[37m\u001b[0m \u001b[1m0s\u001b[0m 2ms/step - accuracy: 0.9546 - loss: 0.1720\n"
     ]
    }
   ],
   "source": [
    "perdida_prueba, precision_prueba = modelo.evaluate(datos_prueba)"
   ]
  },
  {
   "cell_type": "markdown",
   "metadata": {},
   "source": [
    "### Resultados\n",
    "1. Compare resultados anteriores\n",
    "    - 3 capas sigmoiodales : accuracy 96.26% / pérdida 0.12\n",
    "    - 3 capas ReLU : accuracy 97.94 / pérdida 13.69\n",
    "    - 4 capas sigmoidales : 95.61 / pérdida 0.1605\n",
    "    - 4 capas ReLU : accuracy 97.54% / pérdida 15.35\n",
    "    - 5 capas sigmoidales : 95.36 / pérdida 0.1758\n",
    "    - 5 capas ReLU : accuracy 97.31% / pérdida 17.00\n",
    "2. Analice el impacto de velocidad de convergencia<br>\n",
    "    La velocidad de convergencia es un poco diferente pero en este caso parece ser mejor."
   ]
  },
  {
   "cell_type": "markdown",
   "metadata": {},
   "source": [
    "## Funciones de Activación II"
   ]
  },
  {
   "cell_type": "code",
   "execution_count": 40,
   "metadata": {},
   "outputs": [],
   "source": [
    "modelo = tf.keras.Sequential([\n",
    "\n",
    "    tf.keras.layers.Flatten(input_shape=(28, 28)), # capa entrada\n",
    "    \n",
    "    tf.keras.layers.Dense(tamanio_capa_escondida, activation='relu'), # 1era capa escondida\n",
    "    tf.keras.layers.Dense(tamanio_capa_escondida, activation='tanh'), # 2nda capa escondida\n",
    "    tf.keras.layers.Dense(tamanio_capa_escondida, activation='sigmoid'), # 3ra capa escondida agregada\n",
    "    tf.keras.layers.Dense(tamanio_capa_escondida, activation='sigmoid'), # 4ta capa escondida agregada \n",
    "    tf.keras.layers.Dense(tamanio_capa_escondida, activation='sigmoid'), # 5ta capa escondida agregada \n",
    "\n",
    "    tf.keras.layers.Dense(tamanio_salida, activation='softmax') # capa salida\n",
    "])"
   ]
  },
  {
   "cell_type": "code",
   "execution_count": 41,
   "metadata": {},
   "outputs": [],
   "source": [
    "modelo.compile(optimizer='adam', loss='sparse_categorical_crossentropy', metrics=['accuracy'])"
   ]
  },
  {
   "cell_type": "code",
   "execution_count": 42,
   "metadata": {},
   "outputs": [
    {
     "name": "stdout",
     "output_type": "stream",
     "text": [
      "Epoch 1/5\n",
      "500/500 - 3s - 7ms/step - accuracy: 0.8725 - loss: 0.4416 - val_accuracy: 0.9543 - val_loss: 0.1597\n",
      "Epoch 2/5\n",
      "500/500 - 2s - 4ms/step - accuracy: 0.9632 - loss: 0.1299 - val_accuracy: 0.9669 - val_loss: 0.1163\n",
      "Epoch 3/5\n",
      "500/500 - 2s - 4ms/step - accuracy: 0.9739 - loss: 0.0881 - val_accuracy: 0.9632 - val_loss: 0.1338\n",
      "Epoch 4/5\n",
      "500/500 - 2s - 5ms/step - accuracy: 0.9809 - loss: 0.0646 - val_accuracy: 0.9738 - val_loss: 0.0988\n",
      "Epoch 5/5\n",
      "500/500 - 2s - 5ms/step - accuracy: 0.9839 - loss: 0.0530 - val_accuracy: 0.9753 - val_loss: 0.0926\n"
     ]
    },
    {
     "data": {
      "text/plain": [
       "<keras.src.callbacks.history.History at 0x2a12963a570>"
      ]
     },
     "execution_count": 42,
     "metadata": {},
     "output_type": "execute_result"
    }
   ],
   "source": [
    "modelo.fit(datos_entreno,\n",
    "          epochs = NUMERO_EPOCAS, \n",
    "          validation_data = datos_validacion,\n",
    "          verbose = 2)"
   ]
  },
  {
   "cell_type": "code",
   "execution_count": 43,
   "metadata": {},
   "outputs": [
    {
     "name": "stdout",
     "output_type": "stream",
     "text": [
      "\u001b[1m100/100\u001b[0m \u001b[32m━━━━━━━━━━━━━━━━━━━━\u001b[0m\u001b[37m\u001b[0m \u001b[1m0s\u001b[0m 2ms/step - accuracy: 0.9717 - loss: 0.1092\n"
     ]
    }
   ],
   "source": [
    "perdida_prueba, precision_prueba = modelo.evaluate(datos_prueba)"
   ]
  },
  {
   "cell_type": "markdown",
   "metadata": {},
   "source": [
    "### Resultados\n",
    "1. Comparación entre modelos.\n",
    "    - 3 capas sigmoiodales : accuracy 96.26% / pérdida 0.12\n",
    "    - 3 capas ReLU : accuracy 97.47% / pérdida 0.0995\n",
    "    - 3 capas ReLU & Tanh : accuracy 97.45% / pérdida 0.1220\n",
    "    - 4 capas sigmoidales : 95.61% / pérdida 0.1605\n",
    "    - 4 capas ReLU : accuracy 97.54% / pérdida 15.35\n",
    "    - 4 capas ReLU & Tanh : accuracy 97.40% / pérdida 0.1023\n",
    "    - 5 capas sigmoidales : 95.36% / pérdida 0.1758\n",
    "    - 5 capas ReLU : accuracy 97.31% / pérdida 17.00\n",
    "    - 5 capas ReLU & Tanh : accuracy 97.36% / pérdida 0.1035\n",
    "2. Las ventajas y desventajas.<br>\n",
    "    ReLU: <br>\n",
    "    - ventaja:\n",
    "    - desventaja: \n",
    "    Sigmoidal: <br>\n",
    "    - ventaja: \n",
    "    - desventaja: \n",
    "    Tanh: <br>\n",
    "    - ventaja:\n",
    "    - desventaja: \n",
    "    "
   ]
  },
  {
   "cell_type": "markdown",
   "metadata": {},
   "source": [
    "## Modificar el tamaño del batch\n",
    "En este caso vamos a modificar el tamaño del batch a 10000 para ver los cambios de desempeño y pérdida."
   ]
  },
  {
   "cell_type": "code",
   "execution_count": 44,
   "metadata": {},
   "outputs": [],
   "source": [
    "# Ejercicio 6: Batch Size = 10 000\n",
    "# -----------------------------\n",
    "# 1) Reiniciamos el pipeline eliminando cualquier batch previo\n",
    "#    (si vienes de ejercicios anteriores con datos_entreno ya batcheado)\n",
    "\n",
    "datos_entreno    = datos_entreno.unbatch()\n",
    "datos_validacion = datos_validacion.unbatch()\n",
    "datos_prueba     = datos_prueba.unbatch()"
   ]
  },
  {
   "cell_type": "code",
   "execution_count": 45,
   "metadata": {},
   "outputs": [],
   "source": [
    "\n",
    "# 2) Definimos el nuevo tamaño de batch grande\n",
    "TAMANIO_TANDA = 10000"
   ]
  },
  {
   "cell_type": "code",
   "execution_count": 46,
   "metadata": {},
   "outputs": [],
   "source": [
    "# 3) Recreamos los datasets para batch grande\n",
    "#    (si prefieres, también puedes reusar X_entreno, y_entreno, etc.)\n",
    "\n",
    "datos_entreno = (\n",
    "    tf.data.Dataset\n",
    "      .from_tensor_slices((X_entreno, y_entreno))\n",
    "      .shuffle(buffer_size=num_obs_entreno)\n",
    "      .batch(TAMANIO_TANDA)\n",
    ")\n",
    "\n",
    "datos_validacion = (\n",
    "    tf.data.Dataset\n",
    "      .from_tensor_slices((X_validacion, y_validacion))\n",
    "      .batch(TAMANIO_TANDA)\n",
    ")\n",
    "\n",
    "datos_prueba = (\n",
    "    tf.data.Dataset\n",
    "      .from_tensor_slices((X_prueba, y_prueba))\n",
    "      .batch(TAMANIO_TANDA)\n",
    ")"
   ]
  },
  {
   "cell_type": "code",
   "execution_count": 47,
   "metadata": {},
   "outputs": [
    {
     "name": "stdout",
     "output_type": "stream",
     "text": [
      "Shape X: (10000, 28, 28)\n",
      "Shape y: (10000,)\n"
     ]
    }
   ],
   "source": [
    "# 4) Verificamos que ahora la forma sea la correcta\n",
    "for x, y in datos_entreno.take(1):\n",
    "    print(\"Shape X:\", x.shape)  # -> (10000, 28, 28)\n",
    "    print(\"Shape y:\", y.shape)  # -> (10000,)\n"
   ]
  },
  {
   "cell_type": "code",
   "execution_count": 48,
   "metadata": {},
   "outputs": [],
   "source": [
    "# 5) Definimos y compilamos el modelo (igual que antes)\n",
    "modelo = tf.keras.Sequential([\n",
    "    tf.keras.layers.Flatten(input_shape=(28, 28)),\n",
    "    tf.keras.layers.Dense(tamanio_capa_escondida, activation='relu'),\n",
    "    tf.keras.layers.Dense(tamanio_capa_escondida, activation='tanh'),\n",
    "    tf.keras.layers.Dense(tamanio_capa_escondida, activation='sigmoid'),\n",
    "    tf.keras.layers.Dense(tamanio_salida, activation='softmax')\n",
    "])\n",
    "modelo.compile(\n",
    "    optimizer='adam',\n",
    "    loss='sparse_categorical_crossentropy',\n",
    "    metrics=['accuracy']\n",
    ")\n"
   ]
  },
  {
   "cell_type": "code",
   "execution_count": 49,
   "metadata": {},
   "outputs": [
    {
     "name": "stdout",
     "output_type": "stream",
     "text": [
      "Epoch 1/5\n",
      "5/5 - 2s - 377ms/step - accuracy: 0.3534 - loss: 2.1397 - val_accuracy: 0.6318 - val_loss: 1.7835\n",
      "Epoch 2/5\n",
      "5/5 - 1s - 147ms/step - accuracy: 0.6942 - loss: 1.5293 - val_accuracy: 0.7665 - val_loss: 1.1247\n",
      "Epoch 3/5\n",
      "5/5 - 1s - 155ms/step - accuracy: 0.7807 - loss: 0.9725 - val_accuracy: 0.8449 - val_loss: 0.7149\n",
      "Epoch 4/5\n",
      "5/5 - 1s - 145ms/step - accuracy: 0.8378 - loss: 0.6634 - val_accuracy: 0.8739 - val_loss: 0.5114\n",
      "Epoch 5/5\n",
      "5/5 - 1s - 147ms/step - accuracy: 0.8694 - loss: 0.4998 - val_accuracy: 0.8966 - val_loss: 0.3977\n"
     ]
    },
    {
     "data": {
      "text/plain": [
       "<keras.src.callbacks.history.History at 0x2a12968e960>"
      ]
     },
     "execution_count": 49,
     "metadata": {},
     "output_type": "execute_result"
    }
   ],
   "source": [
    "# 6) Entrenamos\n",
    "modelo.fit(\n",
    "    datos_entreno,\n",
    "    epochs=NUMERO_EPOCAS,\n",
    "    validation_data=datos_validacion,\n",
    "    verbose=2\n",
    ")"
   ]
  },
  {
   "cell_type": "code",
   "execution_count": 50,
   "metadata": {},
   "outputs": [
    {
     "name": "stdout",
     "output_type": "stream",
     "text": [
      "\u001b[1m1/1\u001b[0m \u001b[32m━━━━━━━━━━━━━━━━━━━━\u001b[0m\u001b[37m\u001b[0m \u001b[1m0s\u001b[0m 150ms/step - accuracy: 0.8853 - loss: 0.3910\n"
     ]
    }
   ],
   "source": [
    "perdida_prueba, precision_prueba = modelo.evaluate(datos_prueba)"
   ]
  },
  {
   "cell_type": "markdown",
   "metadata": {},
   "source": [
    "- Documente el cambio en el tiempo de entrenamiento"
   ]
  },
  {
   "cell_type": "code",
   "execution_count": 52,
   "metadata": {},
   "outputs": [],
   "source": [
    "def crear_modelo():\n",
    "    modelo = tf.keras.Sequential([\n",
    "        tf.keras.layers.Flatten(input_shape=(28, 28)),\n",
    "        tf.keras.layers.Dense(tamanio_capa_escondida, activation='relu'),\n",
    "        tf.keras.layers.Dense(tamanio_capa_escondida, activation='tanh'),\n",
    "        tf.keras.layers.Dense(tamanio_capa_escondida, activation='sigmoid'),\n",
    "        tf.keras.layers.Dense(tamanio_salida, activation='softmax')\n",
    "    ])\n",
    "    modelo.compile(\n",
    "        optimizer='adam',\n",
    "        loss='sparse_categorical_crossentropy',\n",
    "        metrics=['accuracy']\n",
    "    )\n",
    "    return modelo"
   ]
  },
  {
   "cell_type": "code",
   "execution_count": 53,
   "metadata": {},
   "outputs": [
    {
     "name": "stdout",
     "output_type": "stream",
     "text": [
      "Tiempo (batch=100): 18.21 s\n",
      "Tiempo (batch=10000): 7.66 s\n"
     ]
    }
   ],
   "source": [
    "import time\n",
    "# Parámetros comunes\n",
    "epochs = NUMERO_EPOCAS\n",
    "buffer = num_obs_entreno\n",
    "\n",
    "# A) Pipeline y medición para batch pequeño (100)\n",
    "bs_small = 100\n",
    "datos_entreno_small = (\n",
    "    tf.data.Dataset\n",
    "      .from_tensor_slices((X_entreno, y_entreno))\n",
    "      .shuffle(buffer)\n",
    "      .batch(bs_small)\n",
    ")\n",
    "datos_validacion_small = (\n",
    "    tf.data.Dataset\n",
    "      .from_tensor_slices((X_validacion, y_validacion))\n",
    "      .batch(bs_small)\n",
    ")\n",
    "\n",
    "modelo_small = crear_modelo()\n",
    "start_small = time.time()\n",
    "history_small = modelo_small.fit(\n",
    "    datos_entreno_small,\n",
    "    epochs=epochs,\n",
    "    validation_data=datos_validacion_small,\n",
    "    verbose=0\n",
    ")\n",
    "elapsed_small = time.time() - start_small\n",
    "\n",
    "# B) Pipeline y medición para batch grande (10000)\n",
    "bs_large = 10000\n",
    "# deshacemos cualquier estado anterior\n",
    "datos_entreno_large = (\n",
    "    tf.data.Dataset\n",
    "      .from_tensor_slices((X_entreno, y_entreno))\n",
    "      .shuffle(buffer)\n",
    "      .batch(bs_large)\n",
    ")\n",
    "datos_validacion_large = (\n",
    "    tf.data.Dataset\n",
    "      .from_tensor_slices((X_validacion, y_validacion))\n",
    "      .batch(bs_large)\n",
    ")\n",
    "\n",
    "modelo_large = crear_modelo()\n",
    "start_large = time.time()\n",
    "history_large = modelo_large.fit(\n",
    "    datos_entreno_large,\n",
    "    epochs=epochs,\n",
    "    validation_data=datos_validacion_large,\n",
    "    verbose=0\n",
    ")\n",
    "elapsed_large = time.time() - start_large\n",
    "\n",
    "# Resultados\n",
    "print(f\"Tiempo (batch={bs_small}): {elapsed_small:.2f} s\")\n",
    "print(f\"Tiempo (batch={bs_large}): {elapsed_large:.2f} s\")\n",
    "\n",
    "# Guardar en variables para documentar\n",
    "tiempo_batch_pequeno = elapsed_small\n",
    "tiempo_batch_grande = elapsed_large\n"
   ]
  },
  {
   "cell_type": "markdown",
   "metadata": {},
   "source": [
    "Tras medir los tiempos de entrenamiento con 2 tamaños de batch distinos (100 y 10000) tenemos los siguientes resultados.\n",
    "- batch 100: 18.21 segundos\n",
    "- batch 10000: 7.66 segundos\n",
    "* Notamos que al aumentar el tamaño de batch de 100 a 10,000, el tiempo total de entrenamiento se reduce un 57.9%.\n",
    "* con batch = 100 (50 000 ejemplos / 100) había 500 pasos de actualización por época.\n",
    "* Con batch=10 000 (50 000 ejemplos / 10 000) hay únicamente 5 pasos de actualización por época.\n",
    "Esto se debe por menos overhead de lotes al llamar fit() con un batch incurre en operaciones CPU/GPU."
   ]
  },
  {
   "cell_type": "markdown",
   "metadata": {},
   "source": [
    "- Analice el impacto en la precisión del modelo"
   ]
  },
  {
   "cell_type": "code",
   "execution_count": 56,
   "metadata": {},
   "outputs": [],
   "source": [
    "# Extraer accuracy final de entrenamiento y validación de cada historia\n",
    "acc_train_small = history_small.history['accuracy'][-1]\n",
    "acc_val_small   = history_small.history['val_accuracy'][-1]\n",
    "acc_train_large = history_large.history['accuracy'][-1]\n",
    "acc_val_large   = history_large.history['val_accuracy'][-1]\n",
    "\n",
    "# Evaluar ambos modelos sobre el mismo conjunto de prueba rebatchado\n",
    "# (suponiendo que datos_prueba ya está batcheado con 10000)\n",
    "loss_test_small, acc_test_small = modelo_small.evaluate(\n",
    "    tf.data.Dataset.from_tensor_slices((X_prueba, y_prueba)).batch(100),\n",
    "    verbose=0\n",
    ")\n",
    "loss_test_large, acc_test_large = modelo_large.evaluate(\n",
    "    tf.data.Dataset.from_tensor_slices((X_prueba, y_prueba)).batch(10000),\n",
    "    verbose=0\n",
    ")"
   ]
  },
  {
   "cell_type": "code",
   "execution_count": 57,
   "metadata": {},
   "outputs": [
    {
     "name": "stdout",
     "output_type": "stream",
     "text": [
      "Train acc (bs=100):       0.9883\n",
      "Validation acc (bs=100):  0.9768\n",
      "Test acc (bs=100):        0.9754\n",
      "\n",
      "Train acc (bs=10000):    0.8428\n",
      "Validation acc (bs=10000): 0.8760\n",
      "Test acc (bs=10000):     0.8702\n"
     ]
    }
   ],
   "source": [
    "print(f\"Train acc (bs=100):       {acc_train_small:.4f}\")\n",
    "print(f\"Validation acc (bs=100):  {acc_val_small:.4f}\")\n",
    "print(f\"Test acc (bs=100):        {acc_test_small:.4f}\\n\")\n",
    "\n",
    "print(f\"Train acc (bs=10000):    {acc_train_large:.4f}\")\n",
    "print(f\"Validation acc (bs=10000): {acc_val_large:.4f}\")\n",
    "print(f\"Test acc (bs=10000):     {acc_test_large:.4f}\")"
   ]
  },
  {
   "cell_type": "markdown",
   "metadata": {},
   "source": [
    "Estos resultados muestran un cambio entre velocidad y calidad de convergencia\n",
    "* Con batch = 100 tenemos los siguientes resultados: Train 0.9883 vs Val 0.9768 vs Test 0.9754\n",
    "* El modelo casi “aprende de memoria” el conjunto de entrenamiento (muy alta train acc) pero, gracias al ruido del gradiente, mantiene una validación y test sólidas (~97.6 %–97.5 %). Ese ruido actúa como regularizador.\n",
    "\n",
    "Por otro lado, con batch 10000\n",
    "* Train 0.8428 vs Val 0.8760 vs Test 0.8702\n",
    "* El entrenamiento converge más rápido en tiempo, pero con pasos muy “suaves” y pocos updates, el modelo no alcanza un mínimo tan óptimo en train (84 % vs 98 %). Sorprendentemente, la validación y test tampoco mejoran: la generalización empeora (87 % vs 97 %)."
   ]
  },
  {
   "cell_type": "markdown",
   "metadata": {},
   "source": [
    "* Explique teóricamente por qué se observan estos cambios.\n"
   ]
  },
  {
   "cell_type": "markdown",
   "metadata": {},
   "source": [
    "El ruido es la estimacion del gradiente como forma de regularizacion.\n",
    "* Batch = 100 al actualizar los pesos se calcula cono una muestra reducida del dataset, por lo que el gradiente es ruidoso.\n",
    "* el ruido impode que el optimizador caiga en minimos muy afilados de la superficie de perdida, favoreciendo en cambio minimos más anchhos.\n",
    "\n",
    "al tener actualizaciones menos frecuentes el batch 10000 el gradiente que calcula cada paso se acerca mucho al gradiente verdadero de todo el dataset."
   ]
  },
  {
   "cell_type": "markdown",
   "metadata": {},
   "source": [
    "# Descenso de Gradiente Estocástico (SGD)"
   ]
  },
  {
   "cell_type": "code",
   "execution_count": 58,
   "metadata": {},
   "outputs": [],
   "source": [
    "bs_sgd = 1\n",
    "buffer = num_obs_entreno  # el mismo número total de ejemplos de entrenamiento\n",
    "epochs = NUMERO_EPOCAS"
   ]
  },
  {
   "cell_type": "code",
   "execution_count": 59,
   "metadata": {},
   "outputs": [],
   "source": [
    "datos_entreno_sgd = (\n",
    "    tf.data.Dataset\n",
    "      .from_tensor_slices((X_entreno, y_entreno))\n",
    "      .shuffle(buffer)\n",
    "      .batch(bs_sgd)\n",
    ")\n",
    "datos_validacion_sgd = (\n",
    "    tf.data.Dataset\n",
    "      .from_tensor_slices((X_validacion, y_validacion))\n",
    "      .batch(bs_sgd)\n",
    ")\n"
   ]
  },
  {
   "cell_type": "code",
   "execution_count": 60,
   "metadata": {},
   "outputs": [],
   "source": [
    "def crear_modelo():\n",
    "    m = tf.keras.Sequential([\n",
    "        tf.keras.layers.Flatten(input_shape=(28, 28)),\n",
    "        tf.keras.layers.Dense(tamanio_capa_escondida, activation='relu'),\n",
    "        tf.keras.layers.Dense(tamanio_capa_escondida, activation='tanh'),\n",
    "        tf.keras.layers.Dense(tamanio_capa_escondida, activation='sigmoid'),\n",
    "        tf.keras.layers.Dense(tamanio_salida, activation='softmax')\n",
    "    ])\n",
    "    m.compile(optimizer='adam',\n",
    "              loss='sparse_categorical_crossentropy',\n",
    "              metrics=['accuracy'])\n",
    "    return m\n",
    "\n",
    "modelo_sgd = crear_modelo()"
   ]
  },
  {
   "cell_type": "code",
   "execution_count": 61,
   "metadata": {},
   "outputs": [
    {
     "name": "stdout",
     "output_type": "stream",
     "text": [
      "Tiempo (batch=1): 729.11 s\n"
     ]
    }
   ],
   "source": [
    "# Medir tiempo de entrenamiento\n",
    "start_sgd = time.time()\n",
    "history_sgd = modelo_sgd.fit(\n",
    "    datos_entreno_sgd,\n",
    "    epochs=epochs,\n",
    "    validation_data=datos_validacion_sgd,\n",
    "    verbose=0\n",
    ")\n",
    "elapsed_sgd = time.time() - start_sgd\n",
    "\n",
    "print(f\"Tiempo (batch=1): {elapsed_sgd:.2f} s\")"
   ]
  },
  {
   "cell_type": "code",
   "execution_count": 62,
   "metadata": {},
   "outputs": [
    {
     "name": "stdout",
     "output_type": "stream",
     "text": [
      "Train acc (bs=1): 0.9663\n",
      "Val acc   (bs=1): 0.9652\n",
      "Test acc  (bs=1): 0.9640\n"
     ]
    }
   ],
   "source": [
    "acc_train_sgd = history_sgd.history['accuracy'][-1]\n",
    "acc_val_sgd   = history_sgd.history['val_accuracy'][-1]\n",
    "loss_test_sgd, acc_test_sgd = modelo_sgd.evaluate(\n",
    "    tf.data.Dataset.from_tensor_slices((X_prueba, y_prueba)).batch(1),\n",
    "    verbose=0\n",
    ")\n",
    "print(f\"Train acc (bs=1): {acc_train_sgd:.4f}\")\n",
    "print(f\"Val acc   (bs=1): {acc_val_sgd:.4f}\")\n",
    "print(f\"Test acc  (bs=1): {acc_test_sgd:.4f}\")\n"
   ]
  },
  {
   "cell_type": "markdown",
   "metadata": {},
   "source": [
    "* El tiempo para Batch = 1 es de 729.11 s \n",
    "* El tiempo para Batch = 100 es de 18.21 s\n",
    "* El tiempo para Batch = 10 000 es de 7.66 s\n",
    "Estos resultados fueron en 5 epocas.\n",
    "* Con bs=1 hiciste 50 000 updates/época → 250000 updates en 5 épocas.\n",
    "\n",
    "* Con bs=100 fueron 500 updates/época → 2 500 updates en 5 épocas.\n",
    "\n",
    "* Con bs=10 000 solo 5 updates/época → 25 updates en 5 épocas.\n",
    "\n",
    "* Por eso SGD puro es ~ 40× más lento que bs=100 y ~ 95× más lento que bs=10 000.\n",
    "\n",
    "- Con estabilidad y precision\n",
    "* * El tiempo para Batch = 1 es de 729.11 s \n",
    "* El tiempo para Batch = 100 es de 18.21 s\n",
    "* El tiempo para Batch = 10 000 es de 7.66 s\n",
    "Estos resultados fueron en 5 epocas.\n",
    "* Con bs=1 hiciste 50 000 updates/época → 250000 updates en 5 épocas.\n",
    "\n",
    "* Con bs=100 fueron 500 updates/época → 2 500 updates en 5 épocas.\n",
    "\n",
    "* Con bs=10 000 solo 5 updates/época → 25 updates en 5 épocas.\n",
    "\n",
    "* Por eso SGD puro es ~ 40× más lento que bs=100 y ~ 95× más lento que bs=10 000.\n",
    "\n",
    "- Con estabilidad y precision\n",
    "* Train acc (bs=1): 0.9663\n",
    "* Val acc   (bs=1): 0.9652\n",
    "* Test acc  (bs=1): 0.9640\n",
    "con bs=1:\n",
    "* La train acc (96.63 %) es menor que la de bs=100 pero aún alta, mostrando que el modelo aprende aunque muy lentamente.\n",
    "* La val/test acc (~96.5 % / 96.4 %) reflejan buena generalización, solo ligeramente por debajo de bs=100, gracias al gran ruido que actúa como regularizador.\n",
    "\n",
    "# Coherencias con la teoria\n",
    "\n",
    "## Varianza del gradiente\n",
    "\n",
    "* bs pequeño → gradientes muy variables → ayuda a evitar mínimos agudos (sharp minima) y favorece flat minima que generalizan.\n",
    "* Pero con ruido máximo, se requieren muchos pasos para “afinar” hacia esos mínimos “anchos”.\n",
    "\n",
    "## Frecuencia vs coste\n",
    "* Muchas actualizaciones (50 000/época) ralentizan enormemente el entrenamiento.\n",
    "* Pocos, grandes batches (bs=10 000) dan pasos caros pero en muy poca cantidad\n"
   ]
  },
  {
   "cell_type": "markdown",
   "metadata": {},
   "source": [
    "# Tasa de aprendizaje baja"
   ]
  },
  {
   "cell_type": "markdown",
   "metadata": {},
   "source": [
    "Evaluar cómo afecta una tasa de aprendizaje muy baja (1e-4) a la convergencia y precisión del modelo.\n",
    "\n"
   ]
  },
  {
   "cell_type": "code",
   "execution_count": 63,
   "metadata": {},
   "outputs": [],
   "source": [
    "# Creación de un nuevo modelo (misma arquitectura)\n",
    "modelo_lr_baja = crear_modelo()\n",
    "\n",
    "# Asignar Adam con lr baja\n",
    "optimizador_lr_baja = tf.keras.optimizers.Adam(learning_rate=1e-4)\n",
    "modelo_lr_baja.compile(\n",
    "    optimizer=optimizador_lr_baja,\n",
    "    loss='sparse_categorical_crossentropy',\n",
    "    metrics=['accuracy']\n",
    ")"
   ]
  },
  {
   "cell_type": "code",
   "execution_count": 64,
   "metadata": {},
   "outputs": [
    {
     "name": "stdout",
     "output_type": "stream",
     "text": [
      "Epoch 1/5\n",
      "5/5 - 4s - 740ms/step - accuracy: 0.0998 - loss: 2.4667 - val_accuracy: 0.0961 - val_loss: 2.3957\n",
      "Epoch 2/5\n",
      "5/5 - 2s - 319ms/step - accuracy: 0.0998 - loss: 2.3583 - val_accuracy: 0.0964 - val_loss: 2.3011\n",
      "Epoch 3/5\n",
      "5/5 - 1s - 289ms/step - accuracy: 0.1165 - loss: 2.2726 - val_accuracy: 0.1660 - val_loss: 2.2233\n",
      "Epoch 4/5\n",
      "5/5 - 1s - 284ms/step - accuracy: 0.2584 - loss: 2.2002 - val_accuracy: 0.3940 - val_loss: 2.1547\n",
      "Epoch 5/5\n",
      "5/5 - 1s - 284ms/step - accuracy: 0.4355 - loss: 2.1344 - val_accuracy: 0.5266 - val_loss: 2.0892\n",
      "Tiempo (lr=1e-4): 9.66 s\n"
     ]
    }
   ],
   "source": [
    "start_lr = time.time()\n",
    "history_lr = modelo_lr_baja.fit(\n",
    "    datos_entreno,             # usa el pipeline estándar (bs=100)\n",
    "    epochs=NUMERO_EPOCAS,\n",
    "    validation_data=datos_validacion,\n",
    "    verbose=2\n",
    ")\n",
    "elapsed_lr = time.time() - start_lr\n",
    "print(f\"Tiempo (lr=1e-4): {elapsed_lr:.2f} s\")"
   ]
  },
  {
   "cell_type": "code",
   "execution_count": 65,
   "metadata": {},
   "outputs": [
    {
     "data": {
      "image/png": "[encoded data removed]",
      "text/plain": [
       "<Figure size 640x480 with 1 Axes>"
      ]
     },
     "metadata": {},
     "output_type": "display_data"
    },
    {
     "data": {
      "image/png": "[encoded data removed]",
      "text/plain": [
       "<Figure size 640x480 with 1 Axes>"
      ]
     },
     "metadata": {},
     "output_type": "display_data"
    }
   ],
   "source": [
    "import matplotlib.pyplot as plt\n",
    "\n",
    "# Pérdida\n",
    "plt.plot(history_lr.history['loss'], label='train loss')\n",
    "plt.plot(history_lr.history['val_loss'], label='val loss')\n",
    "plt.title('Loss vs Épocas (lr=1e-4)')\n",
    "plt.xlabel('Época')\n",
    "plt.ylabel('Loss')\n",
    "plt.legend()\n",
    "plt.show()\n",
    "\n",
    "# Precisión\n",
    "plt.plot(history_lr.history['accuracy'], label='train acc')\n",
    "plt.plot(history_lr.history['val_accuracy'], label='val acc')\n",
    "plt.title('Accuracy vs Épocas (lr=1e-4)')\n",
    "plt.xlabel('Época')\n",
    "plt.ylabel('Accuracy')\n",
    "plt.legend()\n",
    "plt.show()"
   ]
  },
  {
   "cell_type": "code",
   "execution_count": 66,
   "metadata": {},
   "outputs": [
    {
     "name": "stdout",
     "output_type": "stream",
     "text": [
      "Loss ep1: 2.4667, Loss final: 2.1344\n"
     ]
    }
   ],
   "source": [
    "loss_epoch1 = history_lr.history['loss'][0]\n",
    "loss_final  = history_lr.history['loss'][-1]\n",
    "print(f\"Loss ep1: {loss_epoch1:.4f}, Loss final: {loss_final:.4f}\")"
   ]
  },
  {
   "cell_type": "markdown",
   "metadata": {},
   "source": [
    "* Impacto de convergencia del modelo\n",
    "- Tiempo total (5 epocas) 9.66 s, frente a 4 s con lr=1e-3.\n",
    "- velocidad de descenso de la perdida:\n",
    "* Época 1: loss = 2.4667\n",
    "\n",
    "* Época 5: loss = 2.1344\n",
    "* En 5 épocas la pérdida solo baja un ~13.5 %, cuando con lr por defecto (1e-3) habría caído por encima de un 70 %.\n",
    "\n",
    "- Reducir la lr a 1e-4 hace que el modelo converja muy despacio: tras 5 épocas la pérdida solo baja de 2.467 a 2.134 y la precisión de validación sube solo hasta ~52.7 %. Esto confirma que una tasa demasiado baja provoca pasos de actualización diminutos: no hay un estancamiento en un mínimo local (porque loss y acc mejoran), sino que se requieren muchas más iteraciones para alcanzar accuracies comparables a lr=1e-3"
   ]
  },
  {
   "cell_type": "markdown",
   "metadata": {},
   "source": [
    "# Tasa de Aprendizaje Alta\n",
    "Evaluar cómo una tasa de aprendizaje elevada (2e-2) afecta la estabilidad del entrenamiento y la velocidad de convergencia."
   ]
  },
  {
   "cell_type": "code",
   "execution_count": 67,
   "metadata": {},
   "outputs": [],
   "source": [
    "# Crear y compilar el modelo con lr alta\n",
    "def crear_modelo():\n",
    "    m = tf.keras.Sequential([\n",
    "        tf.keras.layers.Flatten(input_shape=(28, 28)),\n",
    "        tf.keras.layers.Dense(tamanio_capa_escondida, activation='relu'),\n",
    "        tf.keras.layers.Dense(tamanio_capa_escondida, activation='tanh'),\n",
    "        tf.keras.layers.Dense(tamanio_capa_escondida, activation='sigmoid'),\n",
    "        tf.keras.layers.Dense(tamanio_salida, activation='softmax')\n",
    "    ])\n",
    "    m.compile(\n",
    "        optimizer=tf.keras.optimizers.Adam(learning_rate=0.02),\n",
    "        loss='sparse_categorical_crossentropy',\n",
    "        metrics=['accuracy']\n",
    "    )\n",
    "    return m"
   ]
  },
  {
   "cell_type": "code",
   "execution_count": 68,
   "metadata": {},
   "outputs": [
    {
     "name": "stderr",
     "output_type": "stream",
     "text": [
      "c:\\Users\\HP\\AppData\\Local\\Programs\\Python\\Python312\\Lib\\site-packages\\keras\\src\\layers\\reshaping\\flatten.py:37: UserWarning: Do not pass an `input_shape`/`input_dim` argument to a layer. When using Sequential models, prefer using an `Input(shape)` object as the first layer in the model instead.\n",
      "  super().__init__(**kwargs)\n"
     ]
    }
   ],
   "source": [
    "modelo_high_lr = crear_modelo()"
   ]
  },
  {
   "cell_type": "code",
   "execution_count": 69,
   "metadata": {},
   "outputs": [
    {
     "name": "stdout",
     "output_type": "stream",
     "text": [
      "Epoch 1/5\n",
      "5/5 - 3s - 598ms/step - accuracy: 0.1467 - loss: 3.3621 - val_accuracy: 0.1514 - val_loss: 2.6594\n",
      "Epoch 2/5\n",
      "5/5 - 1s - 261ms/step - accuracy: 0.2205 - loss: 2.3111 - val_accuracy: 0.3476 - val_loss: 1.9250\n",
      "Epoch 3/5\n",
      "5/5 - 2s - 336ms/step - accuracy: 0.3811 - loss: 1.7726 - val_accuracy: 0.5721 - val_loss: 1.5236\n",
      "Epoch 4/5\n",
      "5/5 - 1s - 287ms/step - accuracy: 0.6609 - loss: 1.3579 - val_accuracy: 0.7278 - val_loss: 1.1089\n",
      "Epoch 5/5\n",
      "5/5 - 1s - 290ms/step - accuracy: 0.7657 - loss: 0.9685 - val_accuracy: 0.8384 - val_loss: 0.7414\n",
      "Tiempo (lr=0.02): 8.90 s\n"
     ]
    }
   ],
   "source": [
    "start_high = time.time()\n",
    "history_high = modelo_high_lr.fit(\n",
    "    datos_entreno,           # bs=100\n",
    "    epochs=NUMERO_EPOCAS,\n",
    "    validation_data=datos_validacion,\n",
    "    verbose=2\n",
    ")\n",
    "elapsed_high = time.time() - start_high\n",
    "print(f\"Tiempo (lr=0.02): {elapsed_high:.2f} s\")"
   ]
  },
  {
   "cell_type": "code",
   "execution_count": 70,
   "metadata": {},
   "outputs": [
    {
     "data": {
      "image/png": "[encoded data removed]",
      "text/plain": [
       "<Figure size 640x480 with 1 Axes>"
      ]
     },
     "metadata": {},
     "output_type": "display_data"
    },
    {
     "data": {
      "image/png": "[encoded data removed]",
      "text/plain": [
       "<Figure size 640x480 with 1 Axes>"
      ]
     },
     "metadata": {},
     "output_type": "display_data"
    }
   ],
   "source": [
    "# Loss vs épocas\\plt.figure()\n",
    "plt.plot(history_high.history['loss'], label='train loss')\n",
    "plt.plot(history_high.history['val_loss'], label='val loss')\n",
    "plt.title('Loss vs Épocas (lr=0.02)')\n",
    "plt.xlabel('Época')\n",
    "plt.ylabel('Loss')\n",
    "plt.legend()\n",
    "plt.show()\n",
    "\n",
    "# Accuracy vs épocas\n",
    "plt.figure()\n",
    "plt.plot(history_high.history['accuracy'], label='train acc')\n",
    "plt.plot(history_high.history['val_accuracy'], label='val acc')\n",
    "plt.title('Accuracy vs Épocas (lr=0.02)')\n",
    "plt.xlabel('Época')\n",
    "plt.ylabel('Accuracy')\n",
    "plt.legend()\n",
    "plt.show()"
   ]
  },
  {
   "cell_type": "markdown",
   "metadata": {},
   "source": [
    "velocidad de convergencia\n"
   ]
  },
  {
   "cell_type": "code",
   "execution_count": 71,
   "metadata": {},
   "outputs": [
    {
     "name": "stdout",
     "output_type": "stream",
     "text": [
      "Train acc (lr=0.02): 0.7657\n",
      "Val acc   (lr=0.02): 0.8384\n",
      "Test acc  (lr=0.02): 0.8300\n",
      "Loss ep1: 3.3621, Acc ep1: 0.1467\n"
     ]
    }
   ],
   "source": [
    "# Métricas finales\\#acceder a la última accuracy de entrenamiento y validación\n",
    "acc_train_high = history_high.history['accuracy'][-1]\n",
    "acc_val_high   = history_high.history['val_accuracy'][-1]\n",
    "# Evaluación en test\n",
    "_, acc_test_high = modelo_high_lr.evaluate(\n",
    "    tf.data.Dataset.from_tensor_slices((X_prueba, y_prueba)).batch(100),\n",
    "    verbose=0\n",
    ")\n",
    "# Imprimir métricas finales\n",
    "print(f\"Train acc (lr=0.02): {acc_train_high:.4f}\")\n",
    "print(f\"Val acc   (lr=0.02): {acc_val_high:.4f}\")\n",
    "print(f\"Test acc  (lr=0.02): {acc_test_high:.4f}\")\n",
    "\n",
    "# Convergencia inicial (época 1)\n",
    "loss1_high = history_high.history['loss'][0]\n",
    "acc1_high  = history_high.history['accuracy'][0]\n",
    "print(f\"Loss ep1: {loss1_high:.4f}, Acc ep1: {acc1_high:.4f}\")"
   ]
  },
  {
   "cell_type": "markdown",
   "metadata": {},
   "source": [
    "Con lr = 0.02, las curvas de pérdida y accuracy se comportan de forma muy suave y monótona a lo largo de las 5 épocas:\n",
    "* Loss desciende de 3.3621 en la época 1 a 0.9685 en la 5\n",
    "* Val loss baja de 2.6594 a 0.7414\n",
    "* Train acc sube de 0.1467 a 0.7657\n",
    "* Val acc crece de 0.1514 a 0.8384\n",
    "\n",
    "# analisis divergencia o mejorar en la velocidad de convergencia\n",
    "* Velocidad: con lr=0.02 tarda 8.90 s en 5 épocas (frente a ~4 s con la lr por defecto de 0.001).\n",
    "* Convergencia inicial: en solo 1 época la pérdida baja de 3.3621 a 2.3111 y la accuracy pasa de 0.1467 a 0.2205, un descenso/avance mucho más pronunciado que con lr = 0.001.\n",
    "* Conclusión: no se produce divergencia—al contrario, lr=0.02 acelera la convergencia de forma estable, alcanzando en la 5ª época una train acc de 76.6 % y una val acc de 83.8 %, claramente superiores a los resultados con lr demasiado bajo y comparables a lr estándar, pero en menos iteraciones."
   ]
  },
  {
   "cell_type": "markdown",
   "metadata": {},
   "source": [
    "# optimizacion avanzada"
   ]
  },
  {
   "cell_type": "code",
   "execution_count": 72,
   "metadata": {},
   "outputs": [],
   "source": [
    "def crear_modelo_reg(drop_rate=0.0, l2_rate=0.0):\n",
    "    # L2 regularizer\n",
    "    reg = tf.keras.regularizers.l2(l2_rate) if l2_rate > 0 else None\n",
    "\n",
    "    modelo = tf.keras.Sequential([\n",
    "        tf.keras.layers.Flatten(input_shape=(28, 28)),\n",
    "\n",
    "        tf.keras.layers.Dense(tamanio_capa_escondida, activation='relu', kernel_regularizer=reg),\n",
    "        tf.keras.layers.Dropout(drop_rate),\n",
    "\n",
    "        tf.keras.layers.Dense(tamanio_capa_escondida, activation='tanh', kernel_regularizer=reg),\n",
    "        tf.keras.layers.Dropout(drop_rate),\n",
    "\n",
    "        tf.keras.layers.Dense(tamanio_capa_escondida, activation='sigmoid', kernel_regularizer=reg),\n",
    "        tf.keras.layers.Dropout(drop_rate),\n",
    "\n",
    "        tf.keras.layers.Dense(tamanio_salida, activation='softmax')\n",
    "    ])\n",
    "    modelo.compile(\n",
    "        optimizer='adam',\n",
    "        loss='sparse_categorical_crossentropy',\n",
    "        metrics=['accuracy']\n",
    "    )\n",
    "    return modelo"
   ]
  },
  {
   "cell_type": "code",
   "execution_count": 73,
   "metadata": {},
   "outputs": [
    {
     "name": "stdout",
     "output_type": "stream",
     "text": [
      "\n",
      "=== Entrenando baseline ===\n",
      "\n",
      "=== Entrenando dropout_0.2 ===\n",
      "\n",
      "=== Entrenando dropout_0.5 ===\n",
      "\n",
      "=== Entrenando l2_1e-4 ===\n",
      "\n",
      "=== Entrenando l2_1e-3 ===\n",
      "\n",
      "=== Entrenando drop0.2_l2_1e-4 ===\n"
     ]
    },
    {
     "data": {
      "text/html": [
       "<div>\n",
       "<style scoped>\n",
       "    .dataframe tbody tr th:only-of-type {\n",
       "        vertical-align: middle;\n",
       "    }\n",
       "\n",
       "    .dataframe tbody tr th {\n",
       "        vertical-align: top;\n",
       "    }\n",
       "\n",
       "    .dataframe thead th {\n",
       "        text-align: right;\n",
       "    }\n",
       "</style>\n",
       "<table border=\"1\" class=\"dataframe\">\n",
       "  <thead>\n",
       "    <tr style=\"text-align: right;\">\n",
       "      <th></th>\n",
       "      <th>config</th>\n",
       "      <th>time_s</th>\n",
       "      <th>train_acc</th>\n",
       "      <th>val_acc</th>\n",
       "      <th>test_acc</th>\n",
       "    </tr>\n",
       "  </thead>\n",
       "  <tbody>\n",
       "    <tr>\n",
       "      <th>0</th>\n",
       "      <td>baseline</td>\n",
       "      <td>9.273052</td>\n",
       "      <td>0.86178</td>\n",
       "      <td>0.8910</td>\n",
       "      <td>0.8824</td>\n",
       "    </tr>\n",
       "    <tr>\n",
       "      <th>1</th>\n",
       "      <td>dropout_0.2</td>\n",
       "      <td>10.662083</td>\n",
       "      <td>0.80644</td>\n",
       "      <td>0.8791</td>\n",
       "      <td>0.8700</td>\n",
       "    </tr>\n",
       "    <tr>\n",
       "      <th>2</th>\n",
       "      <td>dropout_0.5</td>\n",
       "      <td>10.693553</td>\n",
       "      <td>0.71142</td>\n",
       "      <td>0.8649</td>\n",
       "      <td>0.8469</td>\n",
       "    </tr>\n",
       "    <tr>\n",
       "      <th>3</th>\n",
       "      <td>l2_1e-4</td>\n",
       "      <td>8.577861</td>\n",
       "      <td>0.85664</td>\n",
       "      <td>0.8863</td>\n",
       "      <td>0.8794</td>\n",
       "    </tr>\n",
       "    <tr>\n",
       "      <th>4</th>\n",
       "      <td>l2_1e-3</td>\n",
       "      <td>7.984940</td>\n",
       "      <td>0.85084</td>\n",
       "      <td>0.8795</td>\n",
       "      <td>0.8714</td>\n",
       "    </tr>\n",
       "    <tr>\n",
       "      <th>5</th>\n",
       "      <td>drop0.2_l2_1e-4</td>\n",
       "      <td>6.164349</td>\n",
       "      <td>0.80078</td>\n",
       "      <td>0.8701</td>\n",
       "      <td>0.8572</td>\n",
       "    </tr>\n",
       "  </tbody>\n",
       "</table>\n",
       "</div>"
      ],
      "text/plain": [
       "            config     time_s  train_acc  val_acc  test_acc\n",
       "0         baseline   9.273052    0.86178   0.8910    0.8824\n",
       "1      dropout_0.2  10.662083    0.80644   0.8791    0.8700\n",
       "2      dropout_0.5  10.693553    0.71142   0.8649    0.8469\n",
       "3          l2_1e-4   8.577861    0.85664   0.8863    0.8794\n",
       "4          l2_1e-3   7.984940    0.85084   0.8795    0.8714\n",
       "5  drop0.2_l2_1e-4   6.164349    0.80078   0.8701    0.8572"
      ]
     },
     "execution_count": 73,
     "metadata": {},
     "output_type": "execute_result"
    }
   ],
   "source": [
    "configs = [\n",
    "    {'name':'baseline',      'drop':0.0, 'l2':0.0},\n",
    "    {'name':'dropout_0.2',   'drop':0.2, 'l2':0.0},\n",
    "    {'name':'dropout_0.5',   'drop':0.5, 'l2':0.0},\n",
    "    {'name':'l2_1e-4',       'drop':0.0, 'l2':1e-4},\n",
    "    {'name':'l2_1e-3',       'drop':0.0, 'l2':1e-3},\n",
    "    {'name':'drop0.2_l2_1e-4','drop':0.2, 'l2':1e-4},\n",
    "]\n",
    "\n",
    "resultados = []\n",
    "for cfg in configs:\n",
    "    print(f\"\\n=== Entrenando {cfg['name']} ===\")\n",
    "    modelo = crear_modelo_reg(cfg['drop'], cfg['l2'])\n",
    "\n",
    "    # Medir tiempo\n",
    "    start = time.time()\n",
    "    history = modelo.fit(\n",
    "        datos_entreno,\n",
    "        epochs=NUMERO_EPOCAS,\n",
    "        validation_data=datos_validacion,\n",
    "        verbose=0\n",
    "    )\n",
    "    tiempo = time.time() - start\n",
    "\n",
    "    # Métricas finales\n",
    "    acc_train = history.history['accuracy'][-1]\n",
    "    acc_val   = history.history['val_accuracy'][-1]\n",
    "    _, acc_test = modelo.evaluate(\n",
    "        tf.data.Dataset.from_tensor_slices((X_prueba, y_prueba)).batch(100),\n",
    "        verbose=0\n",
    "    )\n",
    "\n",
    "    resultados.append({\n",
    "        'config': cfg['name'],\n",
    "        'time_s': tiempo,\n",
    "        'train_acc': acc_train,\n",
    "        'val_acc': acc_val,\n",
    "        'test_acc': acc_test\n",
    "    })\n",
    "\n",
    "# Mostrar resultados\n",
    "import pandas as pd\n",
    "df_res = pd.DataFrame(resultados)\n",
    "df_res"
   ]
  },
  {
   "cell_type": "markdown",
   "metadata": {},
   "source": [
    "* Baseline: sin regularización, el modelo sobreajusta ligeramente (train-val gap ~3%), con buena test acc (88.2%).\n",
    "\n",
    "* Dropout 0.2: reduce el gap (train-val ~7.3%), pero baja tanto train como val acc (~88.2%→87.0% test), y aumenta ligeramente el tiempo.\n",
    "\n",
    "* Dropout 0.5: sobre-regulariza, disminuye accuracy en todos (test 84.7%), tiempo elevado.\n",
    "\n",
    "* L2 1e-4: mantiene train acc alto (85.7%), reduce gap (train-val ~3%), test acc 87.9% similar al baseline y acelera el tiempo.\n",
    "\n",
    "* L2 1e-3: incrementa la penalización, ligera reducción en train (85.1%) y val (87.9%), test similar (87.1%), tiempo aún más bajo.\n",
    "\n",
    "* Dropout 0.2 + L2 1e-4: combinacion consigue el menor tiempo (6.16s), test acc 85.7% y gap ~7%, trade-off entre regularización ligera y velocidad."
   ]
  },
  {
   "cell_type": "markdown",
   "metadata": {},
   "source": [
    "Entre las configuraciones probadas, L2 (1e-4) ofrece el mejor compromiso entre retener alta precisión (train/val ~86–88%), reducir el overfitting y mantener un tiempo de entrenamiento bajo. Dropout moderado (0.2) ayuda a reducir el gap, pero a costa de una menor precisión general. La combinación dropout + L2 acelera aún más el entrenamiento, pero penaliza demasiado la precisión. Por tanto, se recomienda usar regularización L2 ligera (1e-4) para mejorar la generalización sin sacrificar velocidad ni precisión.\n",
    "\n"
   ]
  }
 ],
 "metadata": {
  "kernelspec": {
   "display_name": "Python 3",
   "language": "python",
   "name": "python3"
  },
  "language_info": {
   "codemirror_mode": {
    "name": "ipython",
    "version": 3
   },
   "file_extension": ".py",
   "mimetype": "text/x-python",
   "name": "python",
   "nbconvert_exporter": "python",
   "pygments_lexer": "ipython3",
   "version": "3.12.5"
  }
 },
 "nbformat": 4,
 "nbformat_minor": 4
}
